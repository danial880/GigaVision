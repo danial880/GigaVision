{
 "cells": [
  {
   "cell_type": "markdown",
   "id": "9bff79b4",
   "metadata": {},
   "source": [
    "# 3D Visualization of Search Space Results"
   ]
  },
  {
   "cell_type": "markdown",
   "id": "a3020778",
   "metadata": {},
   "source": [
    "### Imports"
   ]
  },
  {
   "cell_type": "code",
   "execution_count": null,
   "id": "bc4ed809",
   "metadata": {},
   "outputs": [],
   "source": [
    "import json\n",
    "import pandas as pd\n",
    "import matplotlib.pyplot as plt\n",
    "%matplotlib notebook"
   ]
  },
  {
   "cell_type": "markdown",
   "id": "e38b124e",
   "metadata": {},
   "source": [
    "### Important Functions"
   ]
  },
  {
   "cell_type": "code",
   "execution_count": null,
   "id": "588d08ec",
   "metadata": {},
   "outputs": [],
   "source": [
    "def plot_3D(x, y, z, xlabel, ylabel, zlabel, title):\n",
    "    fig = plt.figure()\n",
    "    ax = fig.add_subplot(111, projection='3d')\n",
    "    ax.scatter(x, y, z)\n",
    "    plt.title(title)\n",
    "    ax.set_xlabel(xlabel)\n",
    "    ax.set_ylabel(ylabel)\n",
    "    ax.set_zlabel(zlabel)\n",
    "    plt.show()\n",
    "\n",
    "def txt_to_list_of_dicts(file_path):\n",
    "    with open(file_path, \"r\") as file:\n",
    "        content = file.read()\n",
    "        dict_strings = content.split(\"\\n}\")\n",
    "        dicts = []\n",
    "        for dict_string in dict_strings:\n",
    "            kv_pairs = dict_string.strip().split(\"\\n\")\n",
    "            current_dict = {}\n",
    "            for kv in kv_pairs:\n",
    "                if \":\" in kv:\n",
    "                    key = kv.split(\":\")[0].strip().strip('\"')\n",
    "                    value = kv.split(\":\")[1].strip().strip('\"').strip(',')\n",
    "                    if \".\" in value:\n",
    "                        value = float(value)\n",
    "                    else:\n",
    "                        value = int(value)\n",
    "                    current_dict[key] = value\n",
    "            if current_dict:\n",
    "                dicts.append(current_dict)\n",
    "    return dicts"
   ]
  },
  {
   "cell_type": "markdown",
   "id": "97a247ae",
   "metadata": {},
   "source": [
    "#### Path to results.txt"
   ]
  },
  {
   "cell_type": "code",
   "execution_count": null,
   "id": "7f0595c4",
   "metadata": {},
   "outputs": [],
   "source": [
    "path = 'results_sir_shahid.txt'\n",
    "lst_of_dict = txt_to_list_of_dicts(path)"
   ]
  },
  {
   "cell_type": "markdown",
   "id": "196a8e38",
   "metadata": {},
   "source": [
    "#### Draw Plots"
   ]
  },
  {
   "cell_type": "code",
   "execution_count": null,
   "id": "896cb16e",
   "metadata": {
    "scrolled": false
   },
   "outputs": [],
   "source": [
    "df = pd.DataFrame.from_dict(lst_of_dict)\n",
    "AP = df['mAP_all']\n",
    "AR = df['AR_all']\n",
    "resize = df['resize']\n",
    "time = df['average_time_image']\n",
    "plot_3D(AP, resize, time, 'AP', 'resize', 'time','AP vs resize vs time')\n",
    "plot_3D(AR, resize, time, 'AR', 'resize', 'time','AR vs resize vs time')"
   ]
  }
 ],
 "metadata": {
  "kernelspec": {
   "display_name": "Python 3 (ipykernel)",
   "language": "python",
   "name": "python3"
  },
  "language_info": {
   "codemirror_mode": {
    "name": "ipython",
    "version": 3
   },
   "file_extension": ".py",
   "mimetype": "text/x-python",
   "name": "python",
   "nbconvert_exporter": "python",
   "pygments_lexer": "ipython3",
   "version": "3.7.13"
  }
 },
 "nbformat": 4,
 "nbformat_minor": 5
}
