{
 "cells": [
  {
   "cell_type": "markdown",
   "id": "37c6d45d",
   "metadata": {},
   "source": [
    "# GigaVision Detection Dataset Visualization"
   ]
  },
  {
   "cell_type": "markdown",
   "id": "f32ad617",
   "metadata": {},
   "source": [
    "#### Imports\n"
   ]
  },
  {
   "cell_type": "code",
   "execution_count": 2,
   "id": "472b2f88",
   "metadata": {},
   "outputs": [
    {
     "ename": "ImportError",
     "evalue": "attempted relative import with no known parent package",
     "output_type": "error",
     "traceback": [
      "\u001b[0;31m---------------------------------------------------------------------------\u001b[0m",
      "\u001b[0;31mImportError\u001b[0m                               Traceback (most recent call last)",
      "\u001b[0;32m/tmp/ipykernel_16885/728217400.py\u001b[0m in \u001b[0;36m<module>\u001b[0;34m\u001b[0m\n\u001b[1;32m      6\u001b[0m \u001b[0;32mfrom\u001b[0m \u001b[0mos\u001b[0m\u001b[0;34m.\u001b[0m\u001b[0mpath\u001b[0m \u001b[0;32mimport\u001b[0m \u001b[0misfile\u001b[0m\u001b[0;34m,\u001b[0m \u001b[0mjoin\u001b[0m\u001b[0;34m\u001b[0m\u001b[0;34m\u001b[0m\u001b[0m\n\u001b[1;32m      7\u001b[0m \u001b[0;32mfrom\u001b[0m \u001b[0mpprint\u001b[0m \u001b[0;32mimport\u001b[0m \u001b[0mpprint\u001b[0m\u001b[0;34m\u001b[0m\u001b[0;34m\u001b[0m\u001b[0m\n\u001b[0;32m----> 8\u001b[0;31m \u001b[0;32mfrom\u001b[0m \u001b[0;34m.\u001b[0m\u001b[0mgv\u001b[0m \u001b[0;32mimport\u001b[0m \u001b[0mutils\u001b[0m\u001b[0;34m\u001b[0m\u001b[0;34m\u001b[0m\u001b[0m\n\u001b[0m",
      "\u001b[0;31mImportError\u001b[0m: attempted relative import with no known parent package"
     ]
    }
   ],
   "source": [
    "import cv2\n",
    "import json\n",
    "import numpy as np\n",
    "import matplotlib.pyplot as plt\n",
    "from os import listdir\n",
    "from os.path import isfile, join\n",
    "from pprint import pprint"
   ]
  },
  {
   "cell_type": "markdown",
   "id": "34a0982f",
   "metadata": {},
   "source": [
    "#### Drawing Functions"
   ]
  },
  {
   "cell_type": "code",
   "execution_count": null,
   "id": "af8cfd96",
   "metadata": {},
   "outputs": [],
   "source": [
    "def draw_rectangle(img, bbox,\n",
    "                   bbox_color=(255, 255, 255),\n",
    "                   thickness=3, alpha=0.2,\n",
    "                   add_weight=False):\n",
    "    output = img.copy()\n",
    "    overlay = img.copy()\n",
    "    if add_weight:\n",
    "        cv2.rectangle(overlay, (bbox[0], bbox[1]), (bbox[2], bbox[3]),\n",
    "        bbox_color, -1)\n",
    "        cv2.addWeighted(overlay, alpha, output, 1 - alpha, 0, output)\n",
    "        return output\n",
    "    cv2.rectangle(overlay, (bbox[0], bbox[1]), (bbox[2], bbox[3]),\n",
    "        bbox_color, thickness)\n",
    "    return overlay\n",
    "\n",
    "def add_label(img, label, bbox,\n",
    "              pose_label = \"\",\n",
    "              text_color_cat=(0, 0, 0),\n",
    "              text_color_pose=(128, 0, 128),\n",
    "              show_pose=False,\n",
    "              cat_label_thickness=2,\n",
    "              pose_label_thickness=2,\n",
    "              catlbl_font_size=2,\n",
    "              poselbl_font_size=2):\n",
    "    \n",
    "    cat_text_size = cv2.getTextSize(label, cv2.FONT_HERSHEY_SIMPLEX, catlbl_font_size,\n",
    "                                     cat_label_thickness)\n",
    "    pose_text_size = cv2.getTextSize(pose_label, cv2.FONT_HERSHEY_SIMPLEX, poselbl_font_size,\n",
    "                                     pose_label_thickness)\n",
    "    labels_total_width = cat_text_size[0][0] + pose_text_size[0][0]\n",
    "    bbox_width = bbox[2] - bbox[0]\n",
    "    label_distance = 25\n",
    "    while(bbox_width< labels_total_width):\n",
    "        label_distance = 10\n",
    "        if pose_label_thickness>1:\n",
    "            pose_label_thickness = 1\n",
    "        if cat_label_thickness>1:\n",
    "            cat_label_thickness = 1\n",
    "        if catlbl_font_size > poselbl_font_size:\n",
    "            catlbl_font_size = round(catlbl_font_size-0.1, 1)\n",
    "        elif poselbl_font_size > catlbl_font_size:\n",
    "            poselbl_font_size = round(poselbl_font_size-0.1, 1)\n",
    "        else:\n",
    "            catlbl_font_size = round(catlbl_font_size-0.1,1)\n",
    "            poselbl_font_size = round(poselbl_font_size-0.1, 1)\n",
    "\n",
    "        if catlbl_font_size==0.5 or  poselbl_font_size==0.5:           \n",
    "            break\n",
    "        cat_text_size = cv2.getTextSize(label, cv2.FONT_HERSHEY_SIMPLEX, catlbl_font_size,\n",
    "                                     cat_label_thickness)\n",
    "        pose_text_size = cv2.getTextSize(label, cv2.FONT_HERSHEY_SIMPLEX, poselbl_font_size,\n",
    "                                         pose_label_thickness)\n",
    "        labels_total_width = cat_text_size[0][0] + pose_text_size[0][0]\n",
    "    if show_pose:\n",
    "        if labels_total_width > (1.5*bbox_width):\n",
    "            cv2.putText(img, pose_label, (bbox[0] + 5, bbox[1] - cat_text_size[0][1]-label_distance),\n",
    "                    cv2.FONT_HERSHEY_SIMPLEX, poselbl_font_size, text_color_pose, pose_label_thickness)\n",
    "            cv2.putText(img, label, (bbox[0] + 5, bbox[1] - 10),\n",
    "                    cv2.FONT_HERSHEY_SIMPLEX, catlbl_font_size, text_color_cat, cat_label_thickness)\n",
    "        else:\n",
    "            cv2.putText(img, pose_label, (bbox[0] + cat_text_size[0][0]+label_distance, bbox[1] - 10),\n",
    "                        cv2.FONT_HERSHEY_SIMPLEX, poselbl_font_size, text_color_pose, pose_label_thickness)\n",
    "            cv2.putText(img, label, (bbox[0] + 5, bbox[1] - 10),\n",
    "                        cv2.FONT_HERSHEY_SIMPLEX, catlbl_font_size, text_color_cat, cat_label_thickness)\n",
    "    else:\n",
    "        cv2.putText(img, label, (bbox[0] + 5, bbox[1] - 10),\n",
    "                    cv2.FONT_HERSHEY_SIMPLEX, catlbl_font_size, text_color_cat, cat_label_thickness)\n",
    "    return img\n",
    "\n",
    "def bbox_distribution(all_areas, label):\n",
    "    #all_areas = list(set(all_areas))\n",
    "    %matplotlib inline\n",
    "    bins = [96*96, 256*256, 512*512, 1024*1024]\n",
    "    a = {}\n",
    "    a['small(96)'] = len([i for i in all_areas if i < bins[0]])\n",
    "    a['96x96'] = len([i for i in all_areas if i > bins[0] and i < bins[1]])\n",
    "    a['256x256'] = len([i for i in all_areas if i > bins[1] and i < bins[2]])\n",
    "    a['512x512'] = len([i for i in all_areas if i > bins[2] and i < bins[3]])\n",
    "    a['big(1024)'] = len([i for i in all_areas if i > bins[3]])\n",
    "    plt.xlabel(\"BBox Size\", fontsize=16)\n",
    "    plt.ylabel(\"Frequency\", fontsize=16)\n",
    "    plt.bar(list(a.keys()), a.values(), color='g')\n",
    "    plt.title(label=label,\n",
    "          fontsize=24,\n",
    "          color=\"green\")\n",
    "    plt.show()"
   ]
  },
  {
   "cell_type": "markdown",
   "id": "d588c0a3",
   "metadata": {},
   "source": [
    "#### Path of single image"
   ]
  },
  {
   "cell_type": "code",
   "execution_count": null,
   "id": "4ce6fb83",
   "metadata": {},
   "outputs": [],
   "source": [
    "# path to image ==>> The image path should not contain the image name\n",
    "image_path = '../../val/'\n",
    "# name of image\n",
    "image_name = 'IMG_01_30.jpg'\n",
    "# path to the save folder. Make sure folder is created\n",
    "save_dir_single = '../../results/'"
   ]
  },
  {
   "cell_type": "markdown",
   "id": "f51d2a87",
   "metadata": {},
   "source": [
    "#### Path of all images"
   ]
  },
  {
   "cell_type": "code",
   "execution_count": null,
   "id": "ccd4143a",
   "metadata": {},
   "outputs": [],
   "source": [
    "# path to the save folder. Make sure folder is created\n",
    "save_dir_dataset = '../../results/'\n",
    "# path to the dataset images\n",
    "dataset_dir = '../../val/'\n",
    "files = [file for file in listdir(dataset_dir)\n",
    "                    if isfile(join(dataset_dir, file))]\n",
    "files.sort()"
   ]
  },
  {
   "cell_type": "markdown",
   "id": "6b78e2b6",
   "metadata": {},
   "source": [
    "<a id='Person'></a>\n",
    "## Person Visualization\n",
    "[Go to Vehicle Visualization](#Vehicle)"
   ]
  },
  {
   "cell_type": "markdown",
   "id": "9597fe97",
   "metadata": {},
   "source": [
    "#### Read Annotations"
   ]
  },
  {
   "cell_type": "code",
   "execution_count": null,
   "id": "2410ac24",
   "metadata": {},
   "outputs": [],
   "source": [
    "# path to the person training annotations\n",
    "person_annotaion = '../../giga_annotations/person_bbox_train.json'\n",
    "f = open(person_annotaion)\n",
    "person_data = json.load(f)"
   ]
  },
  {
   "cell_type": "markdown",
   "id": "0a1d6b3d",
   "metadata": {},
   "source": [
    "#### Categories"
   ]
  },
  {
   "cell_type": "code",
   "execution_count": null,
   "id": "0b4c35ce",
   "metadata": {},
   "outputs": [],
   "source": [
    "# person-categories: \"fake person\", \"ignore\", \"crowd\" \"person\"\n",
    "include_categories = [\"person\"]\n",
    "# pose: \"standing\", \"walking\", \"sitting\", \"riding\", \"held\", \"unsure\"\n",
    "include_pose = [\"standing\", \"walking\", \"sitting\", \"riding\", \"held\", \"unsure\"]"
   ]
  },
  {
   "cell_type": "markdown",
   "id": "e66702ce",
   "metadata": {},
   "source": [
    "#### Drawing Parameters"
   ]
  },
  {
   "cell_type": "code",
   "execution_count": null,
   "id": "fd1a67f2",
   "metadata": {},
   "outputs": [],
   "source": [
    "# Keep it True for saving visualization\n",
    "write_image = True\n",
    "# Show Visualization in notebook\n",
    "show_vis = False\n",
    "#resize scale\n",
    "scale = 0.50\n",
    "#### bbox parameters ###\n",
    "show_poseh = False\n",
    "# label background\n",
    "draw_bg = True\n",
    "# bbox highlight\n",
    "add_weight = False\n",
    "bbox_thickness = 4\n",
    "#transparency of highlight\n",
    "alpha=0.4\n",
    "### category label parameters ###\n",
    "text_color_cat = (0, 0, 0)\n",
    "cat_label_thickness = 2\n",
    "catlbl_font_size = 2.5\n",
    "### pose label parameters ###\n",
    "text_color_pose = (128, 0, 128)\n",
    "pose_label_thickness = 2\n",
    "poselbl_font_size = 2.5\n",
    "# category color\n",
    "bbox_color = {\"person\" : (255, 255, 255),\n",
    "              \"fake person\": (255, 0, 0),\n",
    "              \"ignore\" : (0, 255, 0),\n",
    "              \"crowd\" : (0, 0, 255)}"
   ]
  },
  {
   "cell_type": "markdown",
   "id": "0254bc31",
   "metadata": {},
   "source": [
    "### Single Image Visualization"
   ]
  },
  {
   "cell_type": "code",
   "execution_count": null,
   "id": "12fc4506",
   "metadata": {
    "scrolled": false
   },
   "outputs": [],
   "source": [
    "%matplotlib notebook\n",
    "for key in person_data.keys():\n",
    "    if key.split('/')[1] == image_name:      \n",
    "        plabel =  \"\"\n",
    "        all_areas_list = []\n",
    "        img_data = person_data[key]\n",
    "        image_height = int(img_data['image size']['height'])\n",
    "        image_width = int(img_data['image size']['width'])\n",
    "        image = cv2.imread(image_path+image_name)\n",
    "        if image is None:\n",
    "            print(\"\\033[91m Note: Unable to read {}. Please check image path. \".format(image_path+image_name))\n",
    "            continue\n",
    "        print(key)\n",
    "        for item in img_data['objects list']:\n",
    "            if item['category'] in include_categories:\n",
    "                if item['category']!='person':\n",
    "                    xmin=int(item['rect']['tl']['x']*image_width)\n",
    "                    ymin=int(item['rect']['tl']['y']*image_height)\n",
    "                    xmax=int(item['rect']['br']['x']*image_width)\n",
    "                    ymax=int(item['rect']['br']['y']*image_height)\n",
    "                    width = xmax - xmin\n",
    "                    height = ymax - ymin\n",
    "                    calc_area = height * width\n",
    "                    all_areas_list.append(calc_area)\n",
    "                    show_pose = False\n",
    "                else:\n",
    "                    show_pose = True if show_poseh else False\n",
    "                    xmin=int(item['rects']['full body']['tl']['x']*image_width)\n",
    "                    ymin=int(item['rects']['full body']['tl']['y']*image_height)\n",
    "                    xmax=int(item['rects']['full body']['br']['x']*image_width)\n",
    "                    ymax=int(item['rects']['full body']['br']['y']*image_height)\n",
    "                    width = xmax - xmin\n",
    "                    height = ymax - ymin\n",
    "                    calc_area = height * width\n",
    "                    all_areas_list.append(calc_area)\n",
    "                    if show_pose & (item['pose'] in include_pose) :\n",
    "                        plabel = item['pose']\n",
    "                image = draw_rectangle(image,\n",
    "                                       [xmin,ymin,xmax,ymax],\n",
    "                                       bbox_color[item['category']],\n",
    "                                       bbox_thickness, alpha,\n",
    "                                       add_weight)\n",
    "                image = add_label(image, item['category'],\n",
    "                                  [xmin,ymin,xmax,ymax],\n",
    "                                  plabel,\n",
    "                                  text_color_cat,\n",
    "                                  text_color_pose,\n",
    "                                  show_pose,\n",
    "                                  cat_label_thickness,\n",
    "                                  pose_label_thickness,\n",
    "                                  catlbl_font_size,\n",
    "                                  poselbl_font_size)\n",
    "        break\n",
    "if write_image & (image is not None):\n",
    "    cv2.imwrite(save_dir_single+\"vis_person_single_\"+image_name, image)\n",
    "if show_vis  & (image is not None):\n",
    "    new_width = int(image.shape[1] * scale)\n",
    "    new_height = int(image.shape[0] * scale)\n",
    "    resized_iamge = cv2.resize(image,(new_width, new_height), interpolation=cv2.INTER_AREA)\n",
    "    recolored = cv2.cvtColor(resized_iamge, cv2.COLOR_BGR2RGB)\n",
    "    fig = plt.figure(figsize=(6,6), dpi=100)\n",
    "    plt.axis('off')\n",
    "    plt.imshow(recolored)\n",
    "    plt.show()"
   ]
  },
  {
   "cell_type": "markdown",
   "id": "833f845d",
   "metadata": {},
   "source": [
    "### Single Image BBox Distribution"
   ]
  },
  {
   "cell_type": "code",
   "execution_count": null,
   "id": "4461dff8",
   "metadata": {},
   "outputs": [],
   "source": [
    "bbox_distribution(all_areas_list, image_name)"
   ]
  },
  {
   "cell_type": "markdown",
   "id": "970a2f0d",
   "metadata": {},
   "source": [
    "### All Images Visualization"
   ]
  },
  {
   "cell_type": "code",
   "execution_count": null,
   "id": "8b80433e",
   "metadata": {
    "scrolled": false
   },
   "outputs": [],
   "source": [
    "%matplotlib notebook\n",
    "num = 0\n",
    "all_areas_list = []\n",
    "image_area_list = []\n",
    "seq_area = {}\n",
    "for val,key in enumerate(person_data):\n",
    "    a, b = key.split('/')\n",
    "    if b == files[num]:\n",
    "        \n",
    "        plabel = \"\"\n",
    "        image = cv2.imread(dataset_dir+files[num])\n",
    "        image_name = files[num]\n",
    "        if image is None:\n",
    "            print(\"\\033[91m Note: Unable to read {}. Please check image path. \".format(image_path+image_name))\n",
    "            continue\n",
    "        print(key)\n",
    "        num+=1\n",
    "        image_height = int(person_data[key]['image size']['height'])\n",
    "        image_width = int(person_data[key]['image size']['width'])  \n",
    "        for item in person_data[key]['objects list']:\n",
    "            if item['category'] in include_categories:\n",
    "                if item['category']!='person':\n",
    "                    xmin=int(item['rect']['tl']['x']*image_width)\n",
    "                    ymin=int(item['rect']['tl']['y']*image_height)\n",
    "                    xmax=int(item['rect']['br']['x']*image_width)\n",
    "                    ymax=int(item['rect']['br']['y']*image_height)\n",
    "                    width = xmax - xmin\n",
    "                    height = ymax - ymin\n",
    "                    calc_area = height * width\n",
    "                    all_areas_list.append(calc_area)\n",
    "                    image_area_list.append(calc_area)\n",
    "                    show_pose = False\n",
    "                else:\n",
    "                    show_pose = True if show_poseh else False\n",
    "                    xmin=int(item['rects']['full body']['tl']['x']*image_width)\n",
    "                    ymin=int(item['rects']['full body']['tl']['y']*image_height)\n",
    "                    xmax=int(item['rects']['full body']['br']['x']*image_width)\n",
    "                    ymax=int(item['rects']['full body']['br']['y']*image_height)\n",
    "                    width = xmax - xmin\n",
    "                    height = ymax - ymin\n",
    "                    calc_area = height * width\n",
    "                    all_areas_list.append(calc_area)\n",
    "                    image_area_list.append(calc_area)\n",
    "                    if show_pose & (item['pose'] in include_pose) :\n",
    "                        plabel = item['pose']\n",
    "                image = draw_rectangle(image,\n",
    "                                       [xmin,ymin,xmax,ymax],\n",
    "                                       bbox_color[item['category']],\n",
    "                                       bbox_thickness, alpha,\n",
    "                                       add_weight)\n",
    "                image = add_label(image, item['category'],\n",
    "                                  [xmin,ymin,xmax,ymax],\n",
    "                                  plabel,\n",
    "                                  text_color_cat,\n",
    "                                  text_color_pose,\n",
    "                                  show_pose,\n",
    "                                  cat_label_thickness,\n",
    "                                  pose_label_thickness)\n",
    "        if write_image & (image is not None):\n",
    "            cv2.imwrite(save_dir_dataset+\"vis_person_\"+image_name, image)\n",
    "        if show_vis & (image is not None):\n",
    "            new_width = int(image.shape[1] * scale)\n",
    "            new_height = int(image.shape[0] * scale)\n",
    "            resized_iamge = cv2.resize(image,(new_width, new_height), interpolation=cv2.INTER_AREA)\n",
    "            recolored = cv2.cvtColor(resized_iamge, cv2.COLOR_BGR2RGB)\n",
    "            fig = plt.figure(figsize=(6,6), dpi=100)\n",
    "            plt.axis('off')\n",
    "            plt.imshow(recolored)\n",
    "            plt.show()\n",
    "        if num == len(files):\n",
    "            break\n",
    "        if a in seq_area.keys():\n",
    "            seq_area[a].extend(image_area_list)\n",
    "            image_area_list = []\n",
    "        else:\n",
    "            seq_area[a] = image_area_list\n",
    "            image_area_list = []\n"
   ]
  },
  {
   "cell_type": "markdown",
   "id": "7bec5ee6",
   "metadata": {},
   "source": [
    "### All Images BBox Distribution"
   ]
  },
  {
   "cell_type": "code",
   "execution_count": null,
   "id": "29a02073",
   "metadata": {},
   "outputs": [],
   "source": [
    "for val, key in enumerate(seq_area):\n",
    "    bbox_distribution(seq_area[key],key)"
   ]
  },
  {
   "cell_type": "markdown",
   "id": "292a7254",
   "metadata": {},
   "source": [
    "<a id='Vehicle'></a>\n",
    "## Vehicle Visualization\n",
    "[Go to Person Visualization](#Person)"
   ]
  },
  {
   "cell_type": "markdown",
   "id": "61fc4b65",
   "metadata": {},
   "source": [
    "#### Read Annotations"
   ]
  },
  {
   "cell_type": "code",
   "execution_count": null,
   "id": "3e96e822",
   "metadata": {},
   "outputs": [],
   "source": [
    "#path to vehicle training annotations\n",
    "vehicle_annotaion = 'giga_annotations/vehicle_bbox_train.json'\n",
    "fv = open(vehicle_annotaion)\n",
    "vehicle_data = json.load(fv)"
   ]
  },
  {
   "cell_type": "markdown",
   "id": "4581e659",
   "metadata": {},
   "source": [
    "#### Categories"
   ]
  },
  {
   "cell_type": "code",
   "execution_count": null,
   "id": "8b1a385b",
   "metadata": {},
   "outputs": [],
   "source": [
    "# \"small car\", \"midsize car\", \"large car\", \"bicycle\", \"motorcycle\", \"tricycle\",\n",
    "# \"electric car\", \"baby carriage\", \"vehicles\", \"unsure\"\n",
    "vinclude_categories = [\"small car\", \"midsize car\", \"large car\",\n",
    "                     \"bicycle\", \"motorcycle\", \"tricycle\",\n",
    "                     \"electric car\", \"baby carriage\",\n",
    "                     \"vehicles\", \"unsure\"]"
   ]
  },
  {
   "cell_type": "markdown",
   "id": "1346b918",
   "metadata": {},
   "source": [
    "#### Drawing Parameters"
   ]
  },
  {
   "cell_type": "code",
   "execution_count": null,
   "id": "5fb9d21a",
   "metadata": {},
   "outputs": [],
   "source": [
    "# Keep it True for saving visualization\n",
    "write_imagev = False\n",
    "# Show Visualization in notebook\n",
    "show_visv = False\n",
    "#resize scale\n",
    "scale = 0.2\n",
    "### bbox parameters ###\n",
    "# label background\n",
    "draw_bg = False\n",
    "# bbox highlight\n",
    "add_weight = False\n",
    "bbox_thickness = 4\n",
    "#transparency of highlight\n",
    "alpha = 0.4\n",
    "### category label parameters ###\n",
    "text_bg_color = (255, 255, 255)\n",
    "text_color_cat = (0, 0, 0)\n",
    "cat_label_thickness = 4\n",
    "catlbl_font_size = 4\n",
    "# category color\n",
    "bbox_colorv = {\"vehicles\" : (255, 255, 255),\n",
    "              \"small car\": (255, 0, 0),\n",
    "              \"motorcycle\" : (0, 255, 0),\n",
    "              \"bicycle\" : (0, 0, 255),\n",
    "              \"large car\" : (0, 128, 128),\n",
    "              \"midsize car\" : (0, 128, 255),\n",
    "              \"tricycle\" : (128, 0, 255),\n",
    "              \"electric car\" : (255, 0, 255),\n",
    "              \"baby carriage\" : (0, 255, 255),\n",
    "              \"unsure\" : (128, 0, 128)}"
   ]
  },
  {
   "cell_type": "markdown",
   "id": "429c5805",
   "metadata": {},
   "source": [
    "#### Single Image Visualization"
   ]
  },
  {
   "cell_type": "code",
   "execution_count": null,
   "id": "2ebd2a4d",
   "metadata": {},
   "outputs": [],
   "source": [
    "%matplotlib notebook\n",
    "all_areas_list = []\n",
    "for key in vehicle_data.keys():\n",
    "    if key.split('/')[1] == image_name:\n",
    "        image = cv2.imread(image_path+image_name)\n",
    "        if image is None:\n",
    "            print(\"\\033[91m Note: Unable to read {}. Please check image path. \".format(image_path+image_name))\n",
    "            continue\n",
    "        print(key)\n",
    "        img_data = vehicle_data[key]\n",
    "        image_height = int(vehicle_data[key]['image size']['height'])\n",
    "        image_width = int(vehicle_data[key]['image size']['width'])\n",
    "        for item in img_data['objects list']:\n",
    "            if item['category'] in vinclude_categories:\n",
    "                xmin=int(item['rect']['tl']['x']*image_width)\n",
    "                ymin=int(item['rect']['tl']['y']*image_height)\n",
    "                xmax=int(item['rect']['br']['x']*image_width)\n",
    "                ymax=int(item['rect']['br']['y']*image_height)\n",
    "                width = xmax - xmin\n",
    "                height = ymax - ymin\n",
    "                calc_area = height * width\n",
    "                all_areas_list.append(calc_area)\n",
    "                image = draw_rectangle(image,\n",
    "                                       [xmin,ymin,xmax,ymax],\n",
    "                                       bbox_colorv[item['category']],\n",
    "                                       bbox_thickness, alpha,\n",
    "                                       add_weight)\n",
    "                image = add_label(image, item['category'],\n",
    "                                  [xmin,ymin,xmax,ymax],\n",
    "                                  text_color_cat=text_color_cat,\n",
    "                                  cat_label_thickness=cat_label_thickness,\n",
    "                                  catlbl_font_size = catlbl_font_size)\n",
    "        break\n",
    "if write_imagev & (image is not None):\n",
    "    cv2.imwrite(save_dir_single+\"vis_vehicle_single_\"+image_name, image)\n",
    "if show_visv & (image is not None):\n",
    "    new_width = int(image.shape[1] * scale)\n",
    "    new_height = int(image.shape[0] * scale)\n",
    "    resized_iamge = cv2.resize(image,(new_width, new_height), interpolation=cv2.INTER_AREA)\n",
    "    recolored = cv2.cvtColor(resized_iamge, cv2.COLOR_BGR2RGB)\n",
    "    fig = plt.figure(figsize=(6,6), dpi=100)\n",
    "    plt.axis('off')\n",
    "    plt.imshow(recolored)\n",
    "    plt.show()"
   ]
  },
  {
   "cell_type": "markdown",
   "id": "ff9ee527",
   "metadata": {},
   "source": [
    "### Single Image BBox Distribution"
   ]
  },
  {
   "cell_type": "code",
   "execution_count": null,
   "id": "5874294d",
   "metadata": {},
   "outputs": [],
   "source": [
    "bbox_distribution(all_areas_list, image_name)"
   ]
  },
  {
   "cell_type": "markdown",
   "id": "7268eb08",
   "metadata": {},
   "source": [
    "#### All Images Visualization"
   ]
  },
  {
   "cell_type": "code",
   "execution_count": null,
   "id": "ae44c31a",
   "metadata": {
    "scrolled": false
   },
   "outputs": [],
   "source": [
    "%matplotlib notebook\n",
    "numv = 0\n",
    "all_areas_list = []\n",
    "image_area_list = []\n",
    "seq_area = {}\n",
    "for val,key in enumerate(vehicle_data):\n",
    "    a, b = key.split('/')\n",
    "    if b == files[numv]:\n",
    "        image = cv2.imread(dataset_dir+files[numv])\n",
    "        image_name = files[numv]\n",
    "        if image is None:\n",
    "            print(\"\\033[91m Note: Unable to read {}. Please check image path. \".format(image_path+image_name))\n",
    "            continue\n",
    "        print(key)\n",
    "        numv+=1       \n",
    "        image_height = int(vehicle_data[key]['image size']['height'])\n",
    "        image_width = int(vehicle_data[key]['image size']['width'])\n",
    "        for item in vehicle_data[key]['objects list']:\n",
    "            if item['category'] in vinclude_categories:\n",
    "                xmin=int(item['rect']['tl']['x']*image_width)\n",
    "                ymin=int(item['rect']['tl']['y']*image_height)\n",
    "                xmax=int(item['rect']['br']['x']*image_width)\n",
    "                ymax=int(item['rect']['br']['y']*image_height)\n",
    "                width = xmax - xmin\n",
    "                height = ymax - ymin\n",
    "                calc_area = height * width\n",
    "                all_areas_list.append(calc_area)\n",
    "                image_area_list.append(calc_area)\n",
    "                image = draw_rectangle(image,\n",
    "                                       [xmin,ymin,xmax,ymax],\n",
    "                                       bbox_colorv[item['category']],\n",
    "                                       bbox_thickness, alpha,\n",
    "                                       add_weight)\n",
    "                image = add_label(image, item['category'],\n",
    "                                  [xmin,ymin,xmax,ymax],\n",
    "                                  text_color_cat=text_color_cat,\n",
    "                                  cat_label_thickness=cat_label_thickness,\n",
    "                                  catlbl_font_size = catlbl_font_size)\n",
    "\n",
    "        if write_imagev & (image is not None):\n",
    "            cv2.imwrite(save_dir_dataset+\"vis_vehicle_\"+image_name, image)\n",
    "        if show_visv & (image is not None):\n",
    "            new_width = int(image.shape[1] * scale)\n",
    "            new_height = int(image.shape[0] * scale)\n",
    "            resized_iamge = cv2.resize(image,(new_width, new_height), interpolation=cv2.INTER_AREA)\n",
    "            recolored = cv2.cvtColor(resized_iamge, cv2.COLOR_BGR2RGB)\n",
    "            fig = plt.figure(figsize=(6,6), dpi=100)\n",
    "            plt.axis('off')\n",
    "            plt.imshow(recolored)\n",
    "            plt.show()\n",
    "        if numv == len(files):\n",
    "            break\n",
    "        if a in seq_area.keys():\n",
    "            seq_area[a].extend(image_area_list)\n",
    "            image_area_list = []\n",
    "        else:\n",
    "            seq_area[a] = image_area_list\n",
    "            image_area_list = []\n",
    "            "
   ]
  },
  {
   "cell_type": "markdown",
   "id": "ea2d1284",
   "metadata": {},
   "source": [
    "### All Images BBox Distribution"
   ]
  },
  {
   "cell_type": "code",
   "execution_count": null,
   "id": "98efab37",
   "metadata": {},
   "outputs": [],
   "source": [
    "for val, key in enumerate(seq_area):\n",
    "    bbox_distribution(seq_area[key],key)"
   ]
  }
 ],
 "metadata": {
  "kernelspec": {
   "display_name": "Python 3 (ipykernel)",
   "language": "python",
   "name": "python3"
  },
  "language_info": {
   "codemirror_mode": {
    "name": "ipython",
    "version": 3
   },
   "file_extension": ".py",
   "mimetype": "text/x-python",
   "name": "python",
   "nbconvert_exporter": "python",
   "pygments_lexer": "ipython3",
   "version": "3.7.13"
  }
 },
 "nbformat": 4,
 "nbformat_minor": 5
}
